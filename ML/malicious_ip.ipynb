{
  "nbformat": 4,
  "nbformat_minor": 0,
  "metadata": {
    "colab": {
      "provenance": [],
      "authorship_tag": "ABX9TyOD9QJOO8Pe/gOLMB/6qpZd",
      "include_colab_link": true
    },
    "kernelspec": {
      "name": "python3",
      "display_name": "Python 3"
    },
    "language_info": {
      "name": "python"
    }
  },
  "cells": [
    {
      "cell_type": "markdown",
      "metadata": {
        "id": "view-in-github",
        "colab_type": "text"
      },
      "source": [
        "<a href=\"https://colab.research.google.com/github/happydracula/eBPF-Firewall/blob/main/ML/malicious_ip.ipynb\" target=\"_parent\"><img src=\"https://colab.research.google.com/assets/colab-badge.svg\" alt=\"Open In Colab\"/></a>"
      ]
    },
    {
      "cell_type": "code",
      "execution_count": 53,
      "metadata": {
        "id": "vdS-iVtqTY_R"
      },
      "outputs": [],
      "source": [
        "import os\n",
        "import pandas as pd\n",
        "import numpy as np\n",
        "import tensorflow as tf\n",
        "import random\n",
        "import math"
      ]
    },
    {
      "cell_type": "code",
      "source": [
        "def encodeIP(ip_addr,N):\n",
        "    X=ip_addr.split('.')\n",
        "    encoding=[0 for i in range(256*N)]\n",
        "    for i in range(1,N+1,1):\n",
        "        k=256*(i-1)+int(X[i-1])\n",
        "        #print(k)\n",
        "        encoding[k]=1\n",
        "    return encoding\n",
        "np.shape(encodeIP('198.51.100.88',3))"
      ],
      "metadata": {
        "colab": {
          "base_uri": "https://localhost:8080/"
        },
        "id": "Ic4jMBZ3T7S-",
        "outputId": "29361c28-f75b-4f68-b48c-409fcc2ef3c1"
      },
      "execution_count": 2,
      "outputs": [
        {
          "output_type": "execute_result",
          "data": {
            "text/plain": [
              "(768,)"
            ]
          },
          "metadata": {},
          "execution_count": 2
        }
      ]
    },
    {
      "cell_type": "code",
      "source": [
        "def get_from_file(filepath):\n",
        "    f = open(filepath, \"r\")\n",
        "    ip_list=f.read().split('\\n')[:-1]\n",
        "    ip_encodings=[]\n",
        "    idx=int(filepath[-5])\n",
        "    print(str(idx)+':'+str(len(ip_list)))\n",
        "    if(idx>=1):\n",
        "      idx=1\n",
        "\n",
        "    for ipaddr in ip_list:\n",
        "        ip_encoding=encodeIP(ipaddr,3)\n",
        "        ip_encoding.append(idx)\n",
        "        ip_encodings.append(ip_encoding)\n",
        "\n",
        "    return ip_encodings\n",
        "data=get_from_file('./levels/8.txt')"
      ],
      "metadata": {
        "id": "NqhEroN7T98c",
        "colab": {
          "base_uri": "https://localhost:8080/"
        },
        "outputId": "7dfd8c8b-cdb9-4655-9589-f5e9b3684573"
      },
      "execution_count": 3,
      "outputs": [
        {
          "output_type": "stream",
          "name": "stdout",
          "text": [
            "8:14\n"
          ]
        }
      ]
    },
    {
      "cell_type": "code",
      "source": [
        "np.shape(data)\n"
      ],
      "metadata": {
        "colab": {
          "base_uri": "https://localhost:8080/"
        },
        "id": "_OiA5mP7XVTC",
        "outputId": "34cba5e3-a655-4a9e-f568-115eadb2fd45"
      },
      "execution_count": 4,
      "outputs": [
        {
          "output_type": "execute_result",
          "data": {
            "text/plain": [
              "(14, 769)"
            ]
          },
          "metadata": {},
          "execution_count": 4
        }
      ]
    },
    {
      "cell_type": "code",
      "source": [
        "def get_from_folder(path):\n",
        "    dataset=[]\n",
        "    for i in range(0,9):\n",
        "        data=get_from_file(os.path.join(path,str(i)+'.txt'))\n",
        "        for encoding in data:\n",
        "            dataset.append(encoding)\n",
        "    return dataset\n",
        "dataset=get_from_folder('./levels')"
      ],
      "metadata": {
        "id": "H6q9F-oZUezD",
        "colab": {
          "base_uri": "https://localhost:8080/"
        },
        "outputId": "c85c8202-0e9f-4d73-b2fe-50ed6fec315b"
      },
      "execution_count": 5,
      "outputs": [
        {
          "output_type": "stream",
          "name": "stdout",
          "text": [
            "0:300000\n",
            "1:239625\n",
            "2:29734\n",
            "3:12804\n",
            "4:5964\n",
            "5:2295\n",
            "6:577\n",
            "7:90\n",
            "8:14\n"
          ]
        }
      ]
    },
    {
      "cell_type": "code",
      "source": [
        "np.shape(dataset)"
      ],
      "metadata": {
        "id": "5toFIc0IXhtx"
      },
      "execution_count": null,
      "outputs": []
    },
    {
      "cell_type": "code",
      "source": [
        "random.shuffle(dataset)\n",
        "dataset=dataset[:300000]"
      ],
      "metadata": {
        "id": "JDTlzOCCXutg"
      },
      "execution_count": 6,
      "outputs": []
    },
    {
      "cell_type": "code",
      "source": [
        "l=[[1,2,3],[4,5,6]]\n",
        "l=np.array(l)\n",
        "l[:,:-1]"
      ],
      "metadata": {
        "colab": {
          "base_uri": "https://localhost:8080/"
        },
        "id": "cjIwolDBZKJm",
        "outputId": "9459d34a-2c20-45aa-e2c2-8829ecad31b5"
      },
      "execution_count": null,
      "outputs": [
        {
          "output_type": "execute_result",
          "data": {
            "text/plain": [
              "array([[1, 2],\n",
              "       [4, 5]])"
            ]
          },
          "metadata": {},
          "execution_count": 25
        }
      ]
    },
    {
      "cell_type": "code",
      "source": [
        "dataset=np.array(dataset)\n",
        "ratio=int(0.8*np.shape(dataset)[0])\n",
        "train=dataset[:ratio,:]\n",
        "test=dataset[ratio:,:]\n"
      ],
      "metadata": {
        "id": "wr4Y-xF0YBa_"
      },
      "execution_count": 7,
      "outputs": []
    },
    {
      "cell_type": "code",
      "source": [
        "del dataset"
      ],
      "metadata": {
        "colab": {
          "base_uri": "https://localhost:8080/",
          "height": 175
        },
        "id": "EIcgpd6f0f0x",
        "outputId": "a5402fb8-e308-4df9-b33a-70c1ab215ac4"
      },
      "execution_count": 11,
      "outputs": [
        {
          "output_type": "error",
          "ename": "NameError",
          "evalue": "ignored",
          "traceback": [
            "\u001b[0;31m---------------------------------------------------------------------------\u001b[0m",
            "\u001b[0;31mNameError\u001b[0m                                 Traceback (most recent call last)",
            "\u001b[0;32m<ipython-input-11-377ad169f540>\u001b[0m in \u001b[0;36m<cell line: 1>\u001b[0;34m()\u001b[0m\n\u001b[0;32m----> 1\u001b[0;31m \u001b[0;32mdel\u001b[0m \u001b[0mdataset\u001b[0m\u001b[0;34m\u001b[0m\u001b[0;34m\u001b[0m\u001b[0m\n\u001b[0m",
            "\u001b[0;31mNameError\u001b[0m: name 'dataset' is not defined"
          ]
        }
      ]
    },
    {
      "cell_type": "code",
      "source": [
        "train_X=train[:,:-1]\n",
        "train_Y=train[:,-1]\n",
        "test_X=test[:,:-1]\n",
        "test_Y=test[:,-1]"
      ],
      "metadata": {
        "id": "rEl6h-P_UtF7"
      },
      "execution_count": 12,
      "outputs": []
    },
    {
      "cell_type": "code",
      "source": [
        "np.shape(train_Y)"
      ],
      "metadata": {
        "colab": {
          "base_uri": "https://localhost:8080/"
        },
        "id": "54gmnoyR9QnX",
        "outputId": "8c81a7b1-0b65-4b78-a8fa-81b6cfa01c1d"
      },
      "execution_count": 16,
      "outputs": [
        {
          "output_type": "execute_result",
          "data": {
            "text/plain": [
              "(240000,)"
            ]
          },
          "metadata": {},
          "execution_count": 16
        }
      ]
    },
    {
      "cell_type": "code",
      "source": [
        "del train\n",
        "del test"
      ],
      "metadata": {
        "id": "zILmrn8z9HRq"
      },
      "execution_count": 13,
      "outputs": []
    },
    {
      "cell_type": "code",
      "source": [
        "model = tf.keras.Sequential([\n",
        "    tf.keras.layers.Dense(1,activation='sigmoid')\n",
        "])\n",
        "\n",
        "model.compile(optimizer='adam',\n",
        "              loss=tf.keras.losses.BinaryCrossentropy(from_logits=False),\n",
        "              metrics=['accuracy'])"
      ],
      "metadata": {
        "id": "ApxLTM7-VBaq"
      },
      "execution_count": 29,
      "outputs": []
    },
    {
      "cell_type": "code",
      "source": [
        "model.fit(train_X, train_Y, epochs=5)"
      ],
      "metadata": {
        "colab": {
          "base_uri": "https://localhost:8080/"
        },
        "id": "d-LxXEROVGOd",
        "outputId": "a8880ebb-355d-425b-dcdf-98cfc79468b1"
      },
      "execution_count": 30,
      "outputs": [
        {
          "output_type": "stream",
          "name": "stdout",
          "text": [
            "Epoch 1/5\n",
            "7500/7500 [==============================] - 13s 2ms/step - loss: 0.5954 - accuracy: 0.6943\n",
            "Epoch 2/5\n",
            "7500/7500 [==============================] - 12s 2ms/step - loss: 0.5378 - accuracy: 0.7134\n",
            "Epoch 3/5\n",
            "7500/7500 [==============================] - 12s 2ms/step - loss: 0.5286 - accuracy: 0.7150\n",
            "Epoch 4/5\n",
            "7500/7500 [==============================] - 12s 2ms/step - loss: 0.5265 - accuracy: 0.7158\n",
            "Epoch 5/5\n",
            "7500/7500 [==============================] - 12s 2ms/step - loss: 0.5260 - accuracy: 0.7158\n"
          ]
        },
        {
          "output_type": "execute_result",
          "data": {
            "text/plain": [
              "<keras.src.callbacks.History at 0x7a1ca8438940>"
            ]
          },
          "metadata": {},
          "execution_count": 30
        }
      ]
    },
    {
      "cell_type": "code",
      "source": [
        "model.evaluate(test_X,test_Y)"
      ],
      "metadata": {
        "colab": {
          "base_uri": "https://localhost:8080/"
        },
        "id": "ERZ05ETu1KsH",
        "outputId": "cddcf6b4-f6d6-43c5-8767-483e1c37855b"
      },
      "execution_count": 31,
      "outputs": [
        {
          "output_type": "stream",
          "name": "stdout",
          "text": [
            "1875/1875 [==============================] - 3s 1ms/step - loss: 0.5275 - accuracy: 0.7140\n"
          ]
        },
        {
          "output_type": "execute_result",
          "data": {
            "text/plain": [
              "[0.5274689197540283, 0.7139666676521301]"
            ]
          },
          "metadata": {},
          "execution_count": 31
        }
      ]
    },
    {
      "cell_type": "code",
      "source": [
        "encoding=encodeIP('61.177.172.179',3)\n",
        "model.predict(np.array([encoding]))"
      ],
      "metadata": {
        "colab": {
          "base_uri": "https://localhost:8080/"
        },
        "id": "IUY49Wr91aOI",
        "outputId": "ca95d9b9-2695-47d9-8779-ee09988fd41f"
      },
      "execution_count": 55,
      "outputs": [
        {
          "output_type": "stream",
          "name": "stdout",
          "text": [
            "1/1 [==============================] - 0s 25ms/step\n"
          ]
        },
        {
          "output_type": "execute_result",
          "data": {
            "text/plain": [
              "array([[0.61007154]], dtype=float32)"
            ]
          },
          "metadata": {},
          "execution_count": 55
        }
      ]
    },
    {
      "cell_type": "code",
      "source": [
        "model.summary()"
      ],
      "metadata": {
        "colab": {
          "base_uri": "https://localhost:8080/"
        },
        "id": "Uk4qNIem1kgI",
        "outputId": "2359bd75-c9cd-4089-f004-1e8c011ce380"
      },
      "execution_count": 33,
      "outputs": [
        {
          "output_type": "stream",
          "name": "stdout",
          "text": [
            "Model: \"sequential_2\"\n",
            "_________________________________________________________________\n",
            " Layer (type)                Output Shape              Param #   \n",
            "=================================================================\n",
            " dense_4 (Dense)             (None, 1)                 769       \n",
            "                                                                 \n",
            "=================================================================\n",
            "Total params: 769 (3.00 KB)\n",
            "Trainable params: 769 (3.00 KB)\n",
            "Non-trainable params: 0 (0.00 Byte)\n",
            "_________________________________________________________________\n"
          ]
        }
      ]
    },
    {
      "cell_type": "code",
      "source": [
        "for layer in model.layers: print(layer.get_config(), layer.get_weights())"
      ],
      "metadata": {
        "id": "Tdwc0CmB-QgD"
      },
      "execution_count": null,
      "outputs": []
    },
    {
      "cell_type": "code",
      "source": [
        "weights = model.layers[0].get_weights()[0]\n",
        "biases  = model.layers[0].get_weights()[1]"
      ],
      "metadata": {
        "id": "6KjCShO9Caeg"
      },
      "execution_count": 41,
      "outputs": []
    },
    {
      "cell_type": "code",
      "source": [
        "weights=weights*1000000000\n",
        "biases=biases*1000000000\n",
        "\n"
      ],
      "metadata": {
        "id": "oL0MKcH-CheM"
      },
      "execution_count": 45,
      "outputs": []
    },
    {
      "cell_type": "code",
      "source": [
        "weights=weights.astype('int64')\n",
        "biases=biases.astype('int64')"
      ],
      "metadata": {
        "id": "iM7PRIlrCkcn"
      },
      "execution_count": 47,
      "outputs": []
    },
    {
      "cell_type": "code",
      "source": [
        "res=0\n",
        "for i in range(0,768):\n",
        "  res=res+weights[i]*encoding[i]\n",
        "res+=biases[0]"
      ],
      "metadata": {
        "id": "GBdjETaiC14q"
      },
      "execution_count": 56,
      "outputs": []
    },
    {
      "cell_type": "code",
      "source": [
        "x=res/1000000000\n",
        "pred=1/(1+math.exp(-x))\n",
        "print(pred)"
      ],
      "metadata": {
        "colab": {
          "base_uri": "https://localhost:8080/"
        },
        "id": "BXfF07f8HFq4",
        "outputId": "70924e2e-8793-4370-946d-32f78b127343"
      },
      "execution_count": 57,
      "outputs": [
        {
          "output_type": "stream",
          "name": "stdout",
          "text": [
            "0.6100715220208411\n"
          ]
        }
      ]
    },
    {
      "cell_type": "code",
      "source": [],
      "metadata": {
        "id": "bo1tzqYRHTQo"
      },
      "execution_count": null,
      "outputs": []
    }
  ]
}